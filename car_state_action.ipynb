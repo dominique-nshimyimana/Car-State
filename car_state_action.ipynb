{
  "nbformat": 4,
  "nbformat_minor": 0,
  "metadata": {
    "colab": {
      "name": "car_state_action",
      "provenance": [],
      "collapsed_sections": [],
      "toc_visible": true,
      "include_colab_link": true
    },
    "kernelspec": {
      "display_name": "Python 3",
      "name": "python3"
    },
    "accelerator": "GPU"
  },
  "cells": [
    {
      "cell_type": "markdown",
      "metadata": {
        "id": "view-in-github",
        "colab_type": "text"
      },
      "source": [
        "<a href=\"https://colab.research.google.com/github/dominique-nshimyimana/Car-State/blob/master/car_state_action.ipynb\" target=\"_parent\"><img src=\"https://colab.research.google.com/assets/colab-badge.svg\" alt=\"Open In Colab\"/></a>"
      ]
    },
    {
      "cell_type": "markdown",
      "metadata": {
        "colab_type": "text",
        "id": "nPDc8yQtVxk4"
      },
      "source": [
        "#Car State-Action Prection \n",
        "#Colab: TensorFlow and GoogleDrive"
      ]
    },
    {
      "cell_type": "code",
      "metadata": {
        "id": "4Ks9AkkCK98M",
        "colab_type": "code",
        "outputId": "3296a0a0-fda9-4d28-d308-ea5a1d25a9de",
        "colab": {
          "base_uri": "https://localhost:8080/",
          "height": 124
        }
      },
      "source": [
        "from google.colab import drive\n",
        "drive.mount('/content/drive')"
      ],
      "execution_count": 0,
      "outputs": [
        {
          "output_type": "stream",
          "text": [
            "Go to this URL in a browser: https://accounts.google.com/o/oauth2/auth?client_id=947318989803-6bn6qk8qdgf4n4g3pfee6491hc0brc4i.apps.googleusercontent.com&redirect_uri=urn%3aietf%3awg%3aoauth%3a2.0%3aoob&response_type=code&scope=email%20https%3a%2f%2fwww.googleapis.com%2fauth%2fdocs.test%20https%3a%2f%2fwww.googleapis.com%2fauth%2fdrive%20https%3a%2f%2fwww.googleapis.com%2fauth%2fdrive.photos.readonly%20https%3a%2f%2fwww.googleapis.com%2fauth%2fpeopleapi.readonly\n",
            "\n",
            "Enter your authorization code:\n",
            "··········\n",
            "Mounted at /content/drive\n"
          ],
          "name": "stdout"
        }
      ]
    },
    {
      "cell_type": "code",
      "metadata": {
        "colab_type": "code",
        "id": "NeWVBhf1VxlH",
        "colab": {}
      },
      "source": [
        "%tensorflow_version 2.x"
      ],
      "execution_count": 0,
      "outputs": []
    },
    {
      "cell_type": "code",
      "metadata": {
        "colab_type": "code",
        "id": "RWSJpsyKqHjH",
        "outputId": "601851fe-9ac2-4d58-8c56-0f08b103b890",
        "colab": {
          "base_uri": "https://localhost:8080/",
          "height": 34
        }
      },
      "source": [
        "from google.colab import drive\n",
        "mounted = '/drive'\n",
        "drive.mount(mounted)"
      ],
      "execution_count": 0,
      "outputs": [
        {
          "output_type": "stream",
          "text": [
            "Mounted at /drive\n"
          ],
          "name": "stdout"
        }
      ]
    },
    {
      "cell_type": "markdown",
      "metadata": {
        "id": "TKQaNEw6OKZn",
        "colab_type": "text"
      },
      "source": [
        "# NN state Evaluation"
      ]
    },
    {
      "cell_type": "code",
      "metadata": {
        "id": "nQXBfd9dOgPX",
        "colab_type": "code",
        "colab": {}
      },
      "source": [
        "import tensorflow as tf\n",
        "import numpy as np\n",
        "from os import listdir\n",
        "from os.path import isfile, join\n",
        "from sklearn.model_selection import train_test_split\n",
        "\n",
        "\n",
        "class NeuralDynamics(tf.keras.Model):\n",
        "\n",
        "    def __init__(self, state_size, action_size):\n",
        "\n",
        "        super(NeuralDynamics, self).__init__()\n",
        "\n",
        "        self.training_counter = 0\n",
        "\n",
        "        if type(state_size) is tuple:\n",
        "          self.state_size = state_size\n",
        "          self.action_size = action_size\n",
        "          self.out_size = state_size[1]\n",
        "        else:\n",
        "          self.state_size = state_size\n",
        "          self.action_size = action_size\n",
        "          self.out_size = state_size\n",
        "\n",
        "        self.layer1 = tf.keras.layers.Dense(300, activation='relu', kernel_regularizer=tf.keras.regularizers.l1(0.1))\n",
        "        self.dropout = tf.keras.layers.Dropout(rate=0.5)\n",
        "        self.layer2 = tf.keras.layers.Dense(300, activation='relu', kernel_regularizer=tf.keras.regularizers.l1(0.1))\n",
        "\n",
        "        self.layer_state1 = tf.keras.layers.Dense(128, activation='relu', kernel_regularizer=tf.keras.regularizers.l1(0.1))\n",
        "        self.layer_state2 = tf.keras.layers.Dense(self.out_size, kernel_regularizer=tf.keras.regularizers.l1(0.1))\n",
        "\n",
        "        self.known_inputs = False\n",
        "        self.training_step = 0\n",
        "\n",
        "    @tf.function\n",
        "    def call(self, inputs):\n",
        "\n",
        "        state, action = inputs\n",
        "        if type(self.state_size) is tuple and self.state_size[0] != state.shape[0]:\n",
        "          missing_zeros = self.state_size[0]-state.shape[0]\n",
        "          paddings = tf.constant([[missing_zeros, 0], [0, 0]])\n",
        "          state = tf.pad(state, paddings, \"CONSTANT\")\n",
        "\n",
        "        x = tf.concat((state, action), axis=1)\n",
        "        x = self.layer1(x)\n",
        "        x = self.dropout(x)\n",
        "        x = self.layer2(x)\n",
        "        x = self.dropout(x)\n",
        "\n",
        "        x = self.layer_state1(x)\n",
        "        x = self.dropout(x)\n",
        "        state = self.layer_state2(x)\n",
        "        return state"
      ],
      "execution_count": 0,
      "outputs": []
    },
    {
      "cell_type": "markdown",
      "metadata": {
        "id": "vNXEqk8av9as",
        "colab_type": "text"
      },
      "source": [
        "# Prepare Data"
      ]
    },
    {
      "cell_type": "code",
      "metadata": {
        "id": "3NbVLTb8v7qv",
        "colab_type": "code",
        "outputId": "6bfeb192-cec0-41c7-f931-bb3f199b2890",
        "colab": {
          "base_uri": "https://localhost:8080/",
          "height": 52
        }
      },
      "source": [
        "data_dir = \"/drive/My Drive/neuronyte_logging\"\n",
        "data_files = [join(data_dir, f) for f in listdir(data_dir) if isfile(join(data_dir, f)) and \".directory\" not in f]\n",
        "\n",
        "cutoff_beginning = 300\n",
        "cutoff_end = 1000\n",
        "\n",
        "xs_states = []\n",
        "xs_actions = []\n",
        "ys = []\n",
        "\n",
        "for f in data_files:\n",
        "    print(f)\n",
        "    data = np.loadtxt(f, delimiter=', ', skiprows=1, dtype=np.float32)[cutoff_beginning:-cutoff_end, :]\n",
        "    x_states = [data[i, 1:-3] for i in range(len(data))]\n",
        "    x_actions = [data[i, -3:] for i in range(len(data))]\n",
        "    y = x_states[1:]\n",
        "    x_states, x_actions = x_states[:-1], x_actions[:-1]\n",
        "    xs_states += x_states\n",
        "    xs_actions += x_actions\n",
        "    ys += y\n",
        "\n",
        "xs_states = np.vstack(xs_states)\n",
        "xs_actions = np.vstack(xs_actions)\n",
        "ys = np.vstack(ys)\n",
        "\n",
        "x_states_train, x_states_test, x_actions_train, x_actions_test, y_train, y_test = train_test_split(xs_states, xs_actions, ys, test_size=0.10)"
      ],
      "execution_count": 0,
      "outputs": [
        {
          "output_type": "stream",
          "text": [
            "/drive/My Drive/neuronyte_logging/NeuroNyte_1585748620.316643\n",
            "/drive/My Drive/neuronyte_logging/NeuroNyte_1585745385.311904\n"
          ],
          "name": "stdout"
        }
      ]
    },
    {
      "cell_type": "markdown",
      "metadata": {
        "id": "VHG-kUgxvoZD",
        "colab_type": "text"
      },
      "source": [
        "# Initialize Model"
      ]
    },
    {
      "cell_type": "code",
      "metadata": {
        "id": "13ur1DL7vljj",
        "colab_type": "code",
        "colab": {}
      },
      "source": [
        "decay=tf.keras.optimizers.schedules.ExponentialDecay(0.0004, 20000, 0.99)\n",
        "optimizer = tf.keras.optimizers.Adam(learning_rate=decay)\n",
        "#optimizer = tf.keras.optimizers.RMSprop(learning_rate=decay)\n",
        "model = NeuralDynamics(6, 2)  # ((24, 6), 2)\n",
        "EPOCHS = 11"
      ],
      "execution_count": 0,
      "outputs": []
    },
    {
      "cell_type": "markdown",
      "metadata": {
        "id": "4mCDvJ1evPe2",
        "colab_type": "text"
      },
      "source": [
        "# Training"
      ]
    },
    {
      "cell_type": "code",
      "metadata": {
        "id": "VS5aNB28pkbW",
        "colab_type": "code",
        "outputId": "d13bf5dc-16a7-42fe-dd1c-be058b2506c6",
        "colab": {
          "base_uri": "https://localhost:8080/",
          "height": 416
        }
      },
      "source": [
        "print(x_states_train.shape, x_actions_train.shape, y_train.shape)\n",
        "model.compile(optimizer, loss=tf.keras.losses.MeanSquaredError())\n",
        "model.fit((x_states_train, x_actions_train), y_train, epochs=EPOCHS, batch_size=64)\n",
        "\n",
        "model.save(join(mounted, 'My Drive/NeuralModel/3/'))"
      ],
      "execution_count": 0,
      "outputs": [
        {
          "output_type": "stream",
          "text": [
            "Epoch 1/11\n",
            "12345/12345 [==============================] - 49s 4ms/step - loss: 533.7521\n",
            "Epoch 2/11\n",
            "12345/12345 [==============================] - 49s 4ms/step - loss: 346.9956\n",
            "Epoch 3/11\n",
            "12345/12345 [==============================] - 49s 4ms/step - loss: 336.3600\n",
            "Epoch 4/11\n",
            "12345/12345 [==============================] - 49s 4ms/step - loss: 325.7378\n",
            "Epoch 5/11\n",
            "12345/12345 [==============================] - 49s 4ms/step - loss: 315.7706\n",
            "Epoch 6/11\n",
            "12345/12345 [==============================] - 50s 4ms/step - loss: 308.1142\n",
            "Epoch 7/11\n",
            "12345/12345 [==============================] - 49s 4ms/step - loss: 299.2908\n",
            "Epoch 8/11\n",
            "12345/12345 [==============================] - 49s 4ms/step - loss: 294.1745\n",
            "Epoch 9/11\n",
            "12345/12345 [==============================] - 49s 4ms/step - loss: 289.4922\n",
            "Epoch 10/11\n",
            "12345/12345 [==============================] - 49s 4ms/step - loss: 285.9679\n",
            "Epoch 11/11\n",
            "12345/12345 [==============================] - 49s 4ms/step - loss: 283.5475\n",
            "INFO:tensorflow:Assets written to: /drive/My Drive/NeuralModel/3/assets\n"
          ],
          "name": "stdout"
        }
      ]
    },
    {
      "cell_type": "markdown",
      "metadata": {
        "id": "Tm4Kgzn-0RUh",
        "colab_type": "text"
      },
      "source": [
        "# Testing"
      ]
    },
    {
      "cell_type": "code",
      "metadata": {
        "id": "ri_jQRJ10Qcr",
        "colab_type": "code",
        "outputId": "96437ec8-dfd0-49b0-eef4-742f4f06d982",
        "colab": {
          "base_uri": "https://localhost:8080/",
          "height": 34
        }
      },
      "source": [
        "print(x_states_test.shape, x_actions_test.shape, y_test.shape)\n",
        "result = model.predict((x_states_test, x_actions_test))"
      ],
      "execution_count": 0,
      "outputs": [
        {
          "output_type": "stream",
          "text": [
            "(105343, 6) (105343, 3) (948082, 6)\n"
          ],
          "name": "stdout"
        }
      ]
    },
    {
      "cell_type": "code",
      "metadata": {
        "id": "L2BAIyZK6WdQ",
        "colab_type": "code",
        "outputId": "d8640a17-1eae-43fb-a244-93e522d9c55c",
        "colab": {
          "base_uri": "https://localhost:8080/",
          "height": 69
        }
      },
      "source": [
        "print(result[0])\n",
        "print(y_test[0])"
      ],
      "execution_count": 0,
      "outputs": [
        {
          "output_type": "stream",
          "text": [
            "[-195.92996   -192.89899      3.0680635   39.463547    10.287734\n",
            "   -3.7276695]\n",
            "[-154.736   -174.889      1.29226   19.6261     8.33567   -1.47628]\n"
          ],
          "name": "stdout"
        }
      ]
    },
    {
      "cell_type": "markdown",
      "metadata": {
        "id": "8m9omgdHTL4D",
        "colab_type": "text"
      },
      "source": [
        "# Visualization of result"
      ]
    },
    {
      "cell_type": "code",
      "metadata": {
        "id": "cK9qWgmrTgVG",
        "colab_type": "code",
        "outputId": "e14e942b-ab7d-46d6-9f31-e06ad553b95c",
        "colab": {
          "base_uri": "https://localhost:8080/",
          "height": 330
        }
      },
      "source": [
        "a = np.array((1,2,3))\n",
        "b = np.array((2,3,4))\n",
        "print(np.hstack((a,b)), 'h1')\n",
        "\n",
        "a = np.array([[1],[2],[3]])\n",
        "b = np.array([[2],[3],[4]])\n",
        "print(np.hstack((a,b)), 'h2')\n",
        "print(np.stack((a,b)), 's')\n",
        "print(np.vstack((a,b)), 'v')\n",
        "print(zip(a,b), 'z')"
      ],
      "execution_count": 0,
      "outputs": [
        {
          "output_type": "stream",
          "text": [
            "[1 2 3 2 3 4] h1\n",
            "[[1 2]\n",
            " [2 3]\n",
            " [3 4]] h2\n",
            "[[[1]\n",
            "  [2]\n",
            "  [3]]\n",
            "\n",
            " [[2]\n",
            "  [3]\n",
            "  [4]]] s\n",
            "[[1]\n",
            " [2]\n",
            " [3]\n",
            " [2]\n",
            " [3]\n",
            " [4]] v\n",
            "<zip object at 0x7f1cd342fa88> z\n"
          ],
          "name": "stdout"
        }
      ]
    }
  ]
}