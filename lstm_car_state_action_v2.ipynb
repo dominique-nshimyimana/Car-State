{
  "nbformat": 4,
  "nbformat_minor": 0,
  "metadata": {
    "colab": {
      "name": "lstm_car_state_action_v2",
      "provenance": [],
      "collapsed_sections": [],
      "toc_visible": true,
      "include_colab_link": true
    },
    "kernelspec": {
      "display_name": "Python 3",
      "name": "python3"
    },
    "accelerator": "GPU"
  },
  "cells": [
    {
      "cell_type": "markdown",
      "metadata": {
        "id": "view-in-github",
        "colab_type": "text"
      },
      "source": [
        "<a href=\"https://colab.research.google.com/github/dominique-nshimyimana/Car-State/blob/master/lstm_car_state_action_v2.ipynb\" target=\"_parent\"><img src=\"https://colab.research.google.com/assets/colab-badge.svg\" alt=\"Open In Colab\"/></a>"
      ]
    },
    {
      "cell_type": "markdown",
      "metadata": {
        "colab_type": "text",
        "id": "nPDc8yQtVxk4"
      },
      "source": [
        "#Colab: TensorFlow and GoogleDrive [Car State-Action]"
      ]
    },
    {
      "cell_type": "code",
      "metadata": {
        "colab_type": "code",
        "id": "NeWVBhf1VxlH",
        "colab": {}
      },
      "source": [
        "%tensorflow_version 2.x"
      ],
      "execution_count": 0,
      "outputs": []
    },
    {
      "cell_type": "code",
      "metadata": {
        "colab_type": "code",
        "id": "RWSJpsyKqHjH",
        "outputId": "cabd9648-3871-44d4-c7f5-00bad514cedc",
        "colab": {
          "base_uri": "https://localhost:8080/",
          "height": 34
        }
      },
      "source": [
        "from google.colab import drive\n",
        "mounted = '/drive'\n",
        "drive.mount(mounted)"
      ],
      "execution_count": 2,
      "outputs": [
        {
          "output_type": "stream",
          "text": [
            "Drive already mounted at /drive; to attempt to forcibly remount, call drive.mount(\"/drive\", force_remount=True).\n"
          ],
          "name": "stdout"
        }
      ]
    },
    {
      "cell_type": "code",
      "metadata": {
        "id": "nQXBfd9dOgPX",
        "colab_type": "code",
        "colab": {}
      },
      "source": [
        "import tensorflow as tf\n",
        "import numpy as np\n",
        "from os import listdir\n",
        "from os.path import isfile, join\n",
        "from sklearn.model_selection import train_test_split\n",
        "from sklearn.preprocessing import MinMaxScaler\n",
        "\n",
        "from tensorflow.keras.models import Sequential\n",
        "from tensorflow.keras.layers import Flatten, LSTM, SimpleRNN, GRU, Dense, Lambda\n",
        "from tensorflow.keras.callbacks import ModelCheckpoint\n",
        "from tensorflow.keras.layers import RepeatVector\n",
        "from tensorflow.keras.layers import TimeDistributed"
      ],
      "execution_count": 0,
      "outputs": []
    },
    {
      "cell_type": "markdown",
      "metadata": {
        "id": "vNXEqk8av9as",
        "colab_type": "text"
      },
      "source": [
        "# Prepare Data"
      ]
    },
    {
      "cell_type": "markdown",
      "metadata": {
        "id": "r0NgTWO5fXnn",
        "colab_type": "text"
      },
      "source": [
        "### Data Functions"
      ]
    },
    {
      "cell_type": "code",
      "metadata": {
        "id": "Re0CNZtgfFrV",
        "colab_type": "code",
        "colab": {}
      },
      "source": [
        "# Load dat from folder\n",
        "# CSV form: Dataset\n",
        "# Timestamp, x, y, yaw, xvel, yvel, omega, accel, brake, steering\n",
        "def load_states_actions(data_dir, cutoff_beginning = 300, cutoff_end = 1000, norm=True):\n",
        "  data_files = [join(data_dir, f) for f in listdir(data_dir) if isfile(join(data_dir, f)) and \".directory\" not in f]\n",
        "\n",
        "  xs_states = []\n",
        "  xs_actions = []\n",
        "  ys = []\n",
        "\n",
        "  for f in data_files:\n",
        "      print(f)\n",
        "      data = np.loadtxt(f, delimiter=', ', skiprows=1, dtype=np.float32)[cutoff_beginning:-cutoff_end, :]\n",
        "      x_states = [data[i, 1:-3] for i in range(len(data))]\n",
        "      x_actions = [data[i, -3:] for i in range(len(data))]\n",
        "      y = x_states[1:]\n",
        "      x_states, x_actions = x_states[:-1], x_actions[:-1]\n",
        "      xs_states += x_states\n",
        "      xs_actions += x_actions\n",
        "\n",
        "  xs_states = np.vstack(xs_states)\n",
        "  xs_actions = np.vstack(xs_actions)\n",
        "\n",
        "  scaler = MinMaxScaler()\n",
        "  xs_states = scaler.fit_transform(xs_states)\n",
        "  xs_actions = scaler.fit_transform(xs_actions)\n",
        "  return xs_states, xs_actions\n",
        "\n",
        "# convert an array of values into a dataset matrix\n",
        "# State(s) at a given time t (or time series until t) and Y is the state at the next time (t + 1).\n",
        "def create_dataset(dataset, look_back=1):\n",
        "\tdataX, dataY = [], []\n",
        "\tfor i in range(len(dataset)-look_back-1):\n",
        "\t\tdataX.append(np.squeeze(dataset[i:(i+look_back)])) #dataset[i:(i+look_back), 0]\n",
        "\t\tdataY.append(dataset[i + look_back]) #dataY.append(dataset[i + look_back, 0])\n",
        "\treturn np.array(dataX), np.array(dataY)\n",
        "\n",
        "def takeSlice(arr, fr, to, name):\n",
        "    \n",
        "    result = arr[:,fr:to,:]\n",
        "    print(name + \": start at \" + str(fr) + \" - shape: \" + str(result.shape))\n",
        "    return result"
      ],
      "execution_count": 0,
      "outputs": []
    },
    {
      "cell_type": "markdown",
      "metadata": {
        "id": "PnG_bIjgfSPg",
        "colab_type": "text"
      },
      "source": [
        "### Load and Preapre"
      ]
    },
    {
      "cell_type": "code",
      "metadata": {
        "id": "3NbVLTb8v7qv",
        "colab_type": "code",
        "outputId": "5bf601c7-142e-4f40-9fe3-deb68256ddce",
        "colab": {
          "base_uri": "https://localhost:8080/",
          "height": 52
        }
      },
      "source": [
        "# Load Data\n",
        "data_dir = \"/drive/My Drive/neuronyte_logging\"\n",
        "xs_states, xs_actions = load_states_actions(data_dir=data_dir)"
      ],
      "execution_count": 5,
      "outputs": [
        {
          "output_type": "stream",
          "text": [
            "/drive/My Drive/neuronyte_logging/NeuroNyte_1585748620.316643\n",
            "/drive/My Drive/neuronyte_logging/NeuroNyte_1585745385.311904\n"
          ],
          "name": "stdout"
        }
      ]
    },
    {
      "cell_type": "code",
      "metadata": {
        "id": "rJ8S9xVOjobF",
        "colab_type": "code",
        "outputId": "6c90fc2e-785d-40f0-994b-09ab842c259b",
        "colab": {
          "base_uri": "https://localhost:8080/",
          "height": 34
        }
      },
      "source": [
        "# Split data\n",
        "x_states_train, x_states_test, x_actions_train, x_actions_test = train_test_split(xs_states, xs_actions, test_size=0.10)\n",
        "\n",
        "# How many steps/state in back from t and # How many steps/state in future/forward from t\n",
        "look_back = 1\n",
        "look_forward = 1\n",
        "totalLength = 12000\n",
        "trainLength = 11800\n",
        "shift = 7\n",
        "\n",
        " \n",
        "mydata = np.copy(x_states_test[1:12001:1]).reshape(1, 12000,6)\n",
        "print('mydata: ', mydata.shape)"
      ],
      "execution_count": 6,
      "outputs": [
        {
          "output_type": "stream",
          "text": [
            "mydata:  (1, 12000, 6)\n"
          ],
          "name": "stdout"
        }
      ]
    },
    {
      "cell_type": "markdown",
      "metadata": {
        "id": "4mCDvJ1evPe2",
        "colab_type": "text"
      },
      "source": [
        "# Training (Model)"
      ]
    },
    {
      "cell_type": "code",
      "metadata": {
        "id": "6ubI5j_PBcwq",
        "colab_type": "code",
        "outputId": "9d42f104-4fa0-4f59-ec7d-d7eba0d1c943",
        "colab": {
          "base_uri": "https://localhost:8080/",
          "height": 86
        }
      },
      "source": [
        "out = 6 # {2,6}\n",
        "x = takeSlice(mydata,0,trainLength,'x') #von 0 a trainLength\n",
        "y = takeSlice(mydata,shift,shift+trainLength,'y') #von shift a trainLength+shift\n",
        "data = mydata\n",
        "print(x.shape, y.shape)\n",
        "\n",
        "model = Sequential()\n",
        "model.add(LSTM(200,return_sequences=True,input_shape=(None,out))) #input takes any steps, two features (var1 and var2)\n",
        "model.add(LSTM(140,return_sequences=True))\n",
        "model.add(LSTM(100,return_sequences=True))\n",
        "model.add(LSTM(100,return_sequences=True))\n",
        "model.add(LSTM(70,return_sequences=True))\n",
        "model.add(LSTM(70,return_sequences=True))\n",
        "model.add(LSTM(out,return_sequences=True)) #output keeps the steps and has two features\n",
        "model.add(Lambda(lambda x: x*1.3))\n",
        "\n",
        "from keras.callbacks import EarlyStopping\n",
        "stop = tf.keras.callbacks.EarlyStopping(monitor='loss',min_delta=0.000000000001,patience=30)\n",
        "rates = [0.001,0.0001,0.00001]\n",
        "for rate in rates:\n",
        "    #print('training with lr = ' + str(rate))\n",
        "    model.compile(loss='mse', optimizer=tf.keras.optimizers.Adam(lr=rate))\n",
        "    model.fit(x,y,epochs=20,callbacks=[stop],verbose=0)\n",
        "print('Trained!')"
      ],
      "execution_count": 0,
      "outputs": [
        {
          "output_type": "stream",
          "text": [
            "x: start at 0 - shape: (1, 11800, 6)\n",
            "y: start at 7 - shape: (1, 11800, 6)\n",
            "(1, 11800, 6) (1, 11800, 6)\n"
          ],
          "name": "stdout"
        },
        {
          "output_type": "stream",
          "text": [
            "Using TensorFlow backend.\n"
          ],
          "name": "stderr"
        }
      ]
    },
    {
      "cell_type": "markdown",
      "metadata": {
        "id": "Tm4Kgzn-0RUh",
        "colab_type": "text"
      },
      "source": [
        "# Testing (Model)"
      ]
    },
    {
      "cell_type": "code",
      "metadata": {
        "id": "cNZconbBiNGy",
        "colab_type": "code",
        "colab": {}
      },
      "source": [
        "#the model for predictions - copies the other model, but uses `return_sequences=False` and `stateful=True`\n",
        "#the change is just to allow predicting step by step and using the predictions as new steps. \n",
        "newModel = Sequential()\n",
        "newModel.add(LSTM(200,return_sequences=True,stateful=True,batch_input_shape=(1,None,out)))\n",
        "newModel.add(LSTM(140,return_sequences=True,stateful=True))\n",
        "newModel.add(LSTM(100,return_sequences=True,stateful=True))\n",
        "newModel.add(LSTM(100,return_sequences=True,stateful=True))\n",
        "newModel.add(LSTM(70,return_sequences=True,stateful=True))\n",
        "newModel.add(LSTM(70,return_sequences=True,stateful=True))\n",
        "newModel.add(LSTM(out,return_sequences=False,stateful=True))\n",
        "newModel.add(Lambda(lambda x: x*1.3))\n",
        "\n",
        "newModel.set_weights(model.get_weights())\n",
        "newModel.reset_states()\n",
        "\n",
        "lastSteps = np.empty((1,totalLength-trainLength,out)) #includes a shift at the beginning to cover the gap \n",
        "lastSteps[:,:shift] = x[:,-shift:] #the initial shift steps are filled with x training data \n",
        "\n",
        "\n",
        "newModel.predict(x[:,:-shift,:]).reshape(1,1,out) #just to adjust states, predict with x without the last shift elements\n",
        "\n",
        "rangeLen = totalLength-trainLength-shift\n",
        "print('rangeLen: ', rangeLen)\n",
        "for i in range(rangeLen):\n",
        "    lastSteps[:,i+shift] = newModel.predict(lastSteps[:,i:i+1,:]).reshape(1,1,out)\n",
        "print(lastSteps.shape)\n",
        "forecastFromSelf = lastSteps[:,shift:,:]\n",
        "\n",
        "#predicting from test/future data:\n",
        "newModel.reset_states()\n",
        "newModel.predict(x) #just to set the states and get used to the sequence\n",
        "\n",
        "newSteps = []\n",
        "#true data for forecasting:\n",
        "xForecast = takeSlice(data,trainLength,-shift,'xForecast') #de 800 a 1192?\n",
        "trueForecast = takeSlice(data,shift+trainLength,None,'trueForecast') #de 807 a 1199\n",
        "\n",
        "for i in range(xForecast.shape[1]):\n",
        "    newSteps.append(newModel.predict(xForecast[:,i:i+1,:]))\n",
        "forecastFromInput = np.asarray(newSteps).reshape(1,xForecast.shape[1],out)\n",
        "print('Prediction done!')"
      ],
      "execution_count": 0,
      "outputs": []
    },
    {
      "cell_type": "markdown",
      "metadata": {
        "id": "8m9omgdHTL4D",
        "colab_type": "text"
      },
      "source": [
        "# Visualization of result"
      ]
    },
    {
      "cell_type": "code",
      "metadata": {
        "id": "cK9qWgmrTgVG",
        "colab_type": "code",
        "colab": {}
      },
      "source": [
        "import matplotlib.pyplot as plt\n",
        "\n",
        "print('trueForecast: ', trueForecast.shape)\n",
        "print('forecastFromSelf: ', forecastFromSelf.shape)\n",
        "print('forecastFromInput: ', forecastFromInput.shape)\n",
        "print('\\n\\n\\nblack line: true values')\n",
        "print('gold line: predicted values')\n",
        "\n",
        "print(xForecast.shape, xForecast[:,:,0:2].shape, np.squeeze(xForecast[:,:,0:2], axis=0).shape)\n",
        "\n",
        "#self forecast\n",
        "fig,ax = plt.subplots(1,1,figsize=(16,5))\n",
        "ax.plot(xForecast[0,:,0], linewidth=7,color='k') #this uses xForecast because it starts exactly where x ends\n",
        "ax.plot(forecastFromSelf[0,:,0],color='y')\n",
        "plt.suptitle(\"predicting feature 1 - self predictions\")\n",
        "plt.show()\n",
        "\n",
        "fig,ax = plt.subplots(1,1,figsize=(16,5))\n",
        "ax.plot(xForecast[0,:,1],linewidth=7,color='k') #this uses xForecast because it starts exactly where x ends\n",
        "ax.plot(forecastFromSelf[0,:,1],color='y')\n",
        "plt.suptitle(\"predicting feature 2 - self predictions\")\n",
        "plt.show()\n",
        "\n",
        "\n",
        "#forecast from test/future data:\n",
        "fig,ax = plt.subplots(1,1,figsize=(16,5))\n",
        "ax.plot(trueForecast[0,:,0], linewidth=7,color='k')\n",
        "ax.plot(forecastFromInput[0,:,0],color='y')\n",
        "plt.suptitle(\"predicting feature 1 - predictions from true data\")\n",
        "plt.show()\n",
        "\n",
        "fig,ax = plt.subplots(1,1,figsize=(16,5))\n",
        "ax.plot(trueForecast[0,:,1],linewidth=7,color='k')\n",
        "ax.plot(forecastFromInput[0,:,1],color='y')\n",
        "plt.suptitle(\"predicting feature 2 - predictions from true data\")\n",
        "plt.show()\n",
        "\n",
        "#######################################\n",
        "###########################################\n",
        "\n",
        "xs_states_inpt = np.squeeze(xForecast[:,:,0:2], axis=0)\n",
        "xs_states_pred = np.squeeze(forecastFromSelf[:,:,0:2], axis=0)\n",
        "\n",
        "plt.plot(*zip(*xs_states_inpt), 'r')\n",
        "plt.plot(*zip(*xs_states_pred),'b')\n",
        "plt.xlabel('x pos')\n",
        "plt.ylabel('y pos')\n",
        "plt.suptitle(\"yy pasition as one feature\")\n",
        "plt.show()"
      ],
      "execution_count": 0,
      "outputs": []
    },
    {
      "cell_type": "markdown",
      "metadata": {
        "id": "tZGtRT-46agU",
        "colab_type": "text"
      },
      "source": [
        "## Docs\n",
        "\n",
        "\n",
        "1.   https://machinelearningmastery.com/time-series-prediction-lstm-recurrent-neural-networks-python-keras/\n",
        "2.   https://stackabuse.com/solving-sequence-problems-with-lstm-in-keras/\n",
        "3.   https://towardsdatascience.com/reinforcement-learning-w-keras-openai-dqns-1eed3a5338c\n",
        "4.   https://keras.io/guides/functional_api/,  https://keras.io/api/models/model/ and https://keras.io/api/layers/recurrent_layers/\n",
        "5.   Not easy to continue: https://github.com/tensorflow/tensorflow/issues/38064\n"
      ]
    }
  ]
}